{
 "cells": [
  {
   "cell_type": "markdown",
   "metadata": {},
   "source": [
    "# Data Augmentation flip code"
   ]
  },
  {
   "cell_type": "code",
   "execution_count": null,
   "metadata": {},
   "outputs": [],
   "source": [
    "import cv2\n",
    "import imageio\n",
    "import imgaug as ia\n",
    "%matplotlib inline\n",
    "import os,glob\n",
    "import scipy.misc\n",
    "from imgaug import augmenters as iaa\n",
    "ia.seed(4)\n",
    "\n",
    "from os import listdir,makedirs\n",
    "\n",
    "from os.path import isfile,join\n",
    "path = '/home/ubuntu/Desktop/' # Source Folder\n",
    "dstpath = '/home/ubuntu/test1/' # Destination Folder\n",
    "try:\n",
    "    makedirs(dstpath)\n",
    "except:\n",
    "    print (\"Directory already exist, images will be written in same folder\")\n",
    "# Folder won't used\n",
    "files = [f for f in listdir(path) if isfile(join(path,f))] \n",
    "for image in files:\n",
    "    try:\n",
    "        img = imageio.imread(os.path.join(path,image))\n",
    "        #gray = cv2.cvtColor(img,cv2.COLOR_BGR2GRAY)\n",
    "        rotate = iaa.Affine(rotate=(-25, 25))\n",
    "        image_aug = rotate.augment_image(img)\n",
    "        dstPath = join(dstpath,image)\n",
    "        scipy.misc.imsave(dstPath,image_aug)\n",
    "    except:\n",
    "        print (\"{} is not converted\".format(image))\n",
    "for fil in glob.glob(\"*.jpg\"):\n",
    "    try:\n",
    "        image = cv2.imread(fil) \n",
    "        gray_image = cv2.cvtColor(image, cv2.COLOR_BGR2GRAY) # convert to greyscale\n",
    "        cv2.imwrite(os.path.join(dstpath,fil),gray_image)\n",
    "    except:\n",
    "        print('{} is not converted')"
   ]
  }
 ],
 "metadata": {
  "kernelspec": {
   "display_name": "Python 3",
   "language": "python",
   "name": "python3"
  },
  "language_info": {
   "codemirror_mode": {
    "name": "ipython",
    "version": 3
   },
   "file_extension": ".py",
   "mimetype": "text/x-python",
   "name": "python",
   "nbconvert_exporter": "python",
   "pygments_lexer": "ipython3",
   "version": "3.6.8"
  }
 },
 "nbformat": 4,
 "nbformat_minor": 2
}
