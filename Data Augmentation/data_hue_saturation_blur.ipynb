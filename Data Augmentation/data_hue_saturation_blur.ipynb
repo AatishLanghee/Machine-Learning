{
 "cells": [
  {
   "cell_type": "markdown",
   "metadata": {},
   "source": [
    "# Data Augmentation flip code"
   ]
  },
  {
   "cell_type": "code",
   "execution_count": 3,
   "metadata": {},
   "outputs": [
    {
     "name": "stdout",
     "output_type": "stream",
     "text": [
      "Directory already exist, images will be written in same folder\n"
     ]
    },
    {
     "name": "stderr",
     "output_type": "stream",
     "text": [
      "/home/ubuntu/anaconda3/lib/python3.6/site-packages/ipykernel_launcher.py:39: DeprecationWarning: `imsave` is deprecated!\n",
      "`imsave` is deprecated in SciPy 1.0.0, and will be removed in 1.2.0.\n",
      "Use ``imageio.imwrite`` instead.\n",
      "/home/ubuntu/anaconda3/lib/python3.6/site-packages/imgaug/augmenters/color.py:549: UserWarning: Received an image with shape (H, W, C) and C=1 in ChangeColorspace._augment_image(). Expected C to usually be 3 -- any other value will likely result in errors. (Note that this function is e.g. called during grayscale conversion and hue/saturation changes.)\n",
      "  \"changes.)\" % (image.shape[2],)\n"
     ]
    },
    {
     "name": "stdout",
     "output_type": "stream",
     "text": [
      "1 resized.jpg is not converted\n"
     ]
    }
   ],
   "source": [
    "import cv2\n",
    "import imageio\n",
    "import imgaug as ia\n",
    "%matplotlib inline\n",
    "import os,glob\n",
    "import scipy.misc\n",
    "from imgaug import augmenters as iaa\n",
    "ia.seed(4)\n",
    "\n",
    "from os import listdir,makedirs\n",
    "\n",
    "from os.path import isfile,join\n",
    "path = '/home/ubuntu/Desktop/' # Source Folder\n",
    "dstpath = '/home/ubuntu/Aatish/test1' # Destination Folder\n",
    "try:\n",
    "    makedirs(dstpath)\n",
    "except:\n",
    "    print (\"Directory already exist, images will be written in same folder\")\n",
    "# Folder won't used\n",
    "\n",
    "seq = iaa.Sequential([\n",
    "    iaa.Affine(rotate=(0, -25)),\n",
    "    iaa.AddToHueAndSaturation((-60, 60)),\n",
    "    #iaa.AdditiveGaussianNoise(scale=(10, 60)),\n",
    "    iaa.ElasticTransformation(alpha=90, sigma=9),  # water-like effect\n",
    "    iaa.Crop(percent=(0, 0.2))\n",
    "])\n",
    "\n",
    "\n",
    "\n",
    "files = [f for f in listdir(path) if isfile(join(path,f))] \n",
    "for image in files:\n",
    "    try:\n",
    "        img = imageio.imread(os.path.join(path,image))\n",
    "        #gray = cv2.cvtColor(img,cv2.COLOR_BGR2GRAY)\n",
    "        rotate = iaa.Affine(rotate=(-25, 25))\n",
    "        image_aug = seq.augment_image(img)\n",
    "        dstPath = join(dstpath,image)\n",
    "        scipy.misc.imsave(dstPath,image_aug)\n",
    "    except:\n",
    "        print (\"{} is not converted\".format(image))\n",
    "for fil in glob.glob(\"*.jpg\"):\n",
    "    try:\n",
    "        image = cv2.imread(fil) \n",
    "        gray_image = cv2.cvtColor(image, cv2.COLOR_BGR2GRAY) # convert to greyscale\n",
    "        cv2.imwrite(os.path.join(dstpath,fil),gray_image)\n",
    "    except:\n",
    "        print('{} is not converted')"
   ]
  },
  {
   "cell_type": "code",
   "execution_count": null,
   "metadata": {},
   "outputs": [],
   "source": []
  }
 ],
 "metadata": {
  "kernelspec": {
   "display_name": "Python 3",
   "language": "python",
   "name": "python3"
  },
  "language_info": {
   "codemirror_mode": {
    "name": "ipython",
    "version": 3
   },
   "file_extension": ".py",
   "mimetype": "text/x-python",
   "name": "python",
   "nbconvert_exporter": "python",
   "pygments_lexer": "ipython3",
   "version": "3.6.8"
  }
 },
 "nbformat": 4,
 "nbformat_minor": 2
}
